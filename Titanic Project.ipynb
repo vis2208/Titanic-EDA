{
 "cells": [
  {
   "cell_type": "markdown",
   "id": "a5348360",
   "metadata": {},
   "source": [
    "#  <centre>Complete Analysis of Titanic Disaster data<centre>"
   ]
  },
  {
   "cell_type": "markdown",
   "id": "7d5939cb",
   "metadata": {},
   "source": [
    "## Table of Contents\n",
    "\n",
    "1. [Objective](#section1)<br>\n",
    "2. [Importing Packages and Collecting Data](#section2)\n",
    "3. [Data Profiling & Preprocessing](#section3)\n",
    "    - 3.1 [Pre Profiling](#section301)<br/>\n",
    "    - 3.2 [Preprocessing](#section302)<br/>\n",
    "    - 3.3 [Post Profiling](#section303)<br/>\n",
    "4. [Analysis Through Data Visualization](#section4)\n",
    "    - 4.1 [What is Total Count of Survivals and Victims?](#section401)<br/>\n",
    "    - 4.2 [Which Gender has more Survival rate?](#section402)<br/>\n",
    "    - 4.3 [What is Survival rate based on Person type(Male,female,Child)](#section403)<br/>\n",
    "    - 4.4 [Did Economy Class had an impact on Survival?](#section404)<br/>\n",
    "    - 4.5 [What is the Survival probaility based on Embarkment of Passengers?](#section405)<br/>\n",
    "    - 4.6 [How is Fare distributed for the Passengers?](#section406)<br/>\n",
    "    - 4.7 [What was Average Fare by Pclass & Embark location?](#section407)<br/>\n",
    "    - 4.8 [ Segment Age in bins with size of 20.Also Correlate Age with Survival.](#section408)<br/>\n",
    "    - 4.9 [ Did Solo Traveller has less chances of Survival?](#section409)<br/>\n",
    "    - 4.10 [How did Total family size affected Survival Count?](#section410)<br/>\n",
    "    - 4.11 [How can you correlate Pclass/Age/fare with Survival rate?](#section411)<br/>\n",
    "    - 4.12 [Which features had most Impact on Survival rate? ](#section412)<br/>\n",
    "5. [Conclusions](#section5)<br/> "
   ]
  },
  {
   "cell_type": "markdown",
   "id": "73d99105",
   "metadata": {},
   "source": [
    "# 1.Objective:"
   ]
  },
  {
   "cell_type": "markdown",
   "id": "64dab299",
   "metadata": {},
   "source": [
    "The objective of this project is to conduct complete **Exploratory data analysis (EDA)** of Titanic data in order to gather insights and eventually predicting servior on basis of features like age, sex, class , cabin and etc. using machine learning models.\n",
    "\n",
    "**Why EDA?**\n",
    "\n",
    "- An approach to summarize, visualize, and become intimately familiar with the important characteristics of a data set.\n",
    "- Defines and Refines the selection of feature variables that will be used for machine learning.\n",
    "- Helps to find hidden Insights\n",
    "- It provides the context needed to develop an appropriate model with minimum errors\n",
    "\n",
    "**About Event**\n",
    "\n",
    "The RMS Titanic was a British passenger liner that sank in the North Atlantic Ocean in the early morning hours of 15 April 1912, after it collided with an iceberg during its maiden voyage from Southampton to New York City. There were an estimated **2,224 passengers** and crew aboard the ship, and more than **1,500 died**, making it one of the deadliest commercial peacetime maritime disasters in modern history. This sensational tragedy shocked the international community and led to better safety regulations for ships."
   ]
  },
  {
   "cell_type": "markdown",
   "id": "de957fd1",
   "metadata": {},
   "source": [
    "#  Data Description"
   ]
  },
  {
   "cell_type": "markdown",
   "id": "c354537f",
   "metadata": {},
   "source": [
    "The dataset consists of information about passengers boarded the Titanic, contains passenger name, sex, passenger class, age etc.The dataset comprises of 891 rows and 12 columns. Below is a table showing names of all the columns and their description."
   ]
  },
  {
   "cell_type": "markdown",
   "id": "74a5b2fd",
   "metadata": {},
   "source": [
    "\n",
    "| Column Name   | Description                                               |\n",
    "| ------------- |:-------------                                            :| \n",
    "| PassengerId   | Passenger Identity                                        | \n",
    "| Survived      | Survival (0 = No; 1 = Yes)                                |  \n",
    "| Pclass        | Passenger Class (1 = 1st; 2 = 2nd; 3 = 3rd)               | \n",
    "| Name          | Name of passenger                                         |   \n",
    "| Sex           | Sex of passenger                                          |\n",
    "| Age           | Age of passenger                                          |\n",
    "| SibSp         | Number of sibling and/or spouse travelling with passenger |\n",
    "| Parch         | Number of parent and/or children travelling with passenger|\n",
    "| Ticket        | Ticket number                                             |\n",
    "| Fare          | Price of ticket                                           |\n",
    "| Cabin         | Cabin number                                              |\n",
    "|Embarkment     | Port of Embarkation (C = Cherbourg; Q = Queenstown; S = Southampton)|"
   ]
  },
  {
   "cell_type": "markdown",
   "id": "5cb0789c",
   "metadata": {},
   "source": [
    "# 2. importing packages and collecting data"
   ]
  },
  {
   "cell_type": "code",
   "execution_count": 301,
   "id": "a205bd7f",
   "metadata": {},
   "outputs": [],
   "source": [
    "import pandas as pd                  # for data manipulation\n",
    "import numpy as np                   # for linear algebra\n",
    "import matplotlib.pyplot as plt      # for graph plotting\n",
    "import seaborn as sns\n",
    "%matplotlib inline"
   ]
  },
  {
   "cell_type": "markdown",
   "id": "08f447c5",
   "metadata": {},
   "source": [
    "**importing data**\n",
    "\n"
   ]
  },
  {
   "cell_type": "code",
   "execution_count": 302,
   "id": "97456332",
   "metadata": {},
   "outputs": [
    {
     "data": {
      "text/html": [
       "<div>\n",
       "<style scoped>\n",
       "    .dataframe tbody tr th:only-of-type {\n",
       "        vertical-align: middle;\n",
       "    }\n",
       "\n",
       "    .dataframe tbody tr th {\n",
       "        vertical-align: top;\n",
       "    }\n",
       "\n",
       "    .dataframe thead th {\n",
       "        text-align: right;\n",
       "    }\n",
       "</style>\n",
       "<table border=\"1\" class=\"dataframe\">\n",
       "  <thead>\n",
       "    <tr style=\"text-align: right;\">\n",
       "      <th></th>\n",
       "      <th>PassengerId</th>\n",
       "      <th>Survived</th>\n",
       "      <th>Pclass</th>\n",
       "      <th>Name</th>\n",
       "      <th>Sex</th>\n",
       "      <th>Age</th>\n",
       "      <th>SibSp</th>\n",
       "      <th>Parch</th>\n",
       "      <th>Ticket</th>\n",
       "      <th>Fare</th>\n",
       "      <th>Cabin</th>\n",
       "      <th>Embarked</th>\n",
       "    </tr>\n",
       "  </thead>\n",
       "  <tbody>\n",
       "    <tr>\n",
       "      <th>0</th>\n",
       "      <td>1</td>\n",
       "      <td>0</td>\n",
       "      <td>3</td>\n",
       "      <td>Braund, Mr. Owen Harris</td>\n",
       "      <td>male</td>\n",
       "      <td>22.0</td>\n",
       "      <td>1</td>\n",
       "      <td>0</td>\n",
       "      <td>A/5 21171</td>\n",
       "      <td>7.2500</td>\n",
       "      <td>NaN</td>\n",
       "      <td>S</td>\n",
       "    </tr>\n",
       "    <tr>\n",
       "      <th>1</th>\n",
       "      <td>2</td>\n",
       "      <td>1</td>\n",
       "      <td>1</td>\n",
       "      <td>Cumings, Mrs. John Bradley (Florence Briggs Th...</td>\n",
       "      <td>female</td>\n",
       "      <td>38.0</td>\n",
       "      <td>1</td>\n",
       "      <td>0</td>\n",
       "      <td>PC 17599</td>\n",
       "      <td>71.2833</td>\n",
       "      <td>C85</td>\n",
       "      <td>C</td>\n",
       "    </tr>\n",
       "    <tr>\n",
       "      <th>2</th>\n",
       "      <td>3</td>\n",
       "      <td>1</td>\n",
       "      <td>3</td>\n",
       "      <td>Heikkinen, Miss. Laina</td>\n",
       "      <td>female</td>\n",
       "      <td>26.0</td>\n",
       "      <td>0</td>\n",
       "      <td>0</td>\n",
       "      <td>STON/O2. 3101282</td>\n",
       "      <td>7.9250</td>\n",
       "      <td>NaN</td>\n",
       "      <td>S</td>\n",
       "    </tr>\n",
       "  </tbody>\n",
       "</table>\n",
       "</div>"
      ],
      "text/plain": [
       "   PassengerId  Survived  Pclass  \\\n",
       "0            1         0       3   \n",
       "1            2         1       1   \n",
       "2            3         1       3   \n",
       "\n",
       "                                                Name     Sex   Age  SibSp  \\\n",
       "0                            Braund, Mr. Owen Harris    male  22.0      1   \n",
       "1  Cumings, Mrs. John Bradley (Florence Briggs Th...  female  38.0      1   \n",
       "2                             Heikkinen, Miss. Laina  female  26.0      0   \n",
       "\n",
       "   Parch            Ticket     Fare Cabin Embarked  \n",
       "0      0         A/5 21171   7.2500   NaN        S  \n",
       "1      0          PC 17599  71.2833   C85        C  \n",
       "2      0  STON/O2. 3101282   7.9250   NaN        S  "
      ]
     },
     "execution_count": 302,
     "metadata": {},
     "output_type": "execute_result"
    }
   ],
   "source": [
    "titanic_train_data = pd.read_csv(\"https://raw.githubusercontent.com/vis2208/Titanic-Project/main/titanic_train_data.csv\")\n",
    "titanic_test_data = pd.read_csv(\"https://raw.githubusercontent.com/vis2208/Titanic-Project/main/titanic_test_data.csv\")\n",
    "titanic_train_data.head(3)"
   ]
  },
  {
   "cell_type": "markdown",
   "id": "212825cf",
   "metadata": {},
   "source": [
    "# Examine data"
   ]
  },
  {
   "cell_type": "code",
   "execution_count": 303,
   "id": "155d5187",
   "metadata": {},
   "outputs": [
    {
     "data": {
      "text/plain": [
       "(891, 12)"
      ]
     },
     "execution_count": 303,
     "metadata": {},
     "output_type": "execute_result"
    }
   ],
   "source": [
    "titanic_train_data.shape # data Shape, 891 rows and 12 columns"
   ]
  },
  {
   "cell_type": "code",
   "execution_count": 304,
   "id": "ebc35859",
   "metadata": {},
   "outputs": [
    {
     "name": "stdout",
     "output_type": "stream",
     "text": [
      "<class 'pandas.core.frame.DataFrame'>\n",
      "RangeIndex: 891 entries, 0 to 890\n",
      "Data columns (total 12 columns):\n",
      " #   Column       Non-Null Count  Dtype  \n",
      "---  ------       --------------  -----  \n",
      " 0   PassengerId  891 non-null    int64  \n",
      " 1   Survived     891 non-null    int64  \n",
      " 2   Pclass       891 non-null    int64  \n",
      " 3   Name         891 non-null    object \n",
      " 4   Sex          891 non-null    object \n",
      " 5   Age          714 non-null    float64\n",
      " 6   SibSp        891 non-null    int64  \n",
      " 7   Parch        891 non-null    int64  \n",
      " 8   Ticket       891 non-null    object \n",
      " 9   Fare         891 non-null    float64\n",
      " 10  Cabin        204 non-null    object \n",
      " 11  Embarked     889 non-null    object \n",
      "dtypes: float64(2), int64(5), object(5)\n",
      "memory usage: 83.7+ KB\n"
     ]
    }
   ],
   "source": [
    "titanic_train_data.info()"
   ]
  },
  {
   "cell_type": "code",
   "execution_count": 305,
   "id": "6bd72076",
   "metadata": {},
   "outputs": [
    {
     "data": {
      "text/plain": [
       "PassengerId      0\n",
       "Survived         0\n",
       "Pclass           0\n",
       "Name             0\n",
       "Sex              0\n",
       "Age            177\n",
       "SibSp            0\n",
       "Parch            0\n",
       "Ticket           0\n",
       "Fare             0\n",
       "Cabin          687\n",
       "Embarked         2\n",
       "dtype: int64"
      ]
     },
     "execution_count": 305,
     "metadata": {},
     "output_type": "execute_result"
    }
   ],
   "source": [
    "titanic_train_data.isnull().sum()  # age column have 177 entries null, Cabin - 687, Embarked - 2"
   ]
  },
  {
   "cell_type": "code",
   "execution_count": 306,
   "id": "b3391bcf",
   "metadata": {},
   "outputs": [
    {
     "data": {
      "text/html": [
       "<div>\n",
       "<style scoped>\n",
       "    .dataframe tbody tr th:only-of-type {\n",
       "        vertical-align: middle;\n",
       "    }\n",
       "\n",
       "    .dataframe tbody tr th {\n",
       "        vertical-align: top;\n",
       "    }\n",
       "\n",
       "    .dataframe thead th {\n",
       "        text-align: right;\n",
       "    }\n",
       "</style>\n",
       "<table border=\"1\" class=\"dataframe\">\n",
       "  <thead>\n",
       "    <tr style=\"text-align: right;\">\n",
       "      <th></th>\n",
       "      <th>PassengerId</th>\n",
       "      <th>Survived</th>\n",
       "      <th>Pclass</th>\n",
       "      <th>Age</th>\n",
       "      <th>SibSp</th>\n",
       "      <th>Parch</th>\n",
       "      <th>Fare</th>\n",
       "    </tr>\n",
       "  </thead>\n",
       "  <tbody>\n",
       "    <tr>\n",
       "      <th>count</th>\n",
       "      <td>891.000000</td>\n",
       "      <td>891.000000</td>\n",
       "      <td>891.000000</td>\n",
       "      <td>714.000000</td>\n",
       "      <td>891.000000</td>\n",
       "      <td>891.000000</td>\n",
       "      <td>891.000000</td>\n",
       "    </tr>\n",
       "    <tr>\n",
       "      <th>mean</th>\n",
       "      <td>446.000000</td>\n",
       "      <td>0.383838</td>\n",
       "      <td>2.308642</td>\n",
       "      <td>29.699118</td>\n",
       "      <td>0.523008</td>\n",
       "      <td>0.381594</td>\n",
       "      <td>32.204208</td>\n",
       "    </tr>\n",
       "    <tr>\n",
       "      <th>std</th>\n",
       "      <td>257.353842</td>\n",
       "      <td>0.486592</td>\n",
       "      <td>0.836071</td>\n",
       "      <td>14.526497</td>\n",
       "      <td>1.102743</td>\n",
       "      <td>0.806057</td>\n",
       "      <td>49.693429</td>\n",
       "    </tr>\n",
       "    <tr>\n",
       "      <th>min</th>\n",
       "      <td>1.000000</td>\n",
       "      <td>0.000000</td>\n",
       "      <td>1.000000</td>\n",
       "      <td>0.420000</td>\n",
       "      <td>0.000000</td>\n",
       "      <td>0.000000</td>\n",
       "      <td>0.000000</td>\n",
       "    </tr>\n",
       "    <tr>\n",
       "      <th>25%</th>\n",
       "      <td>223.500000</td>\n",
       "      <td>0.000000</td>\n",
       "      <td>2.000000</td>\n",
       "      <td>20.125000</td>\n",
       "      <td>0.000000</td>\n",
       "      <td>0.000000</td>\n",
       "      <td>7.910400</td>\n",
       "    </tr>\n",
       "    <tr>\n",
       "      <th>50%</th>\n",
       "      <td>446.000000</td>\n",
       "      <td>0.000000</td>\n",
       "      <td>3.000000</td>\n",
       "      <td>28.000000</td>\n",
       "      <td>0.000000</td>\n",
       "      <td>0.000000</td>\n",
       "      <td>14.454200</td>\n",
       "    </tr>\n",
       "    <tr>\n",
       "      <th>75%</th>\n",
       "      <td>668.500000</td>\n",
       "      <td>1.000000</td>\n",
       "      <td>3.000000</td>\n",
       "      <td>38.000000</td>\n",
       "      <td>1.000000</td>\n",
       "      <td>0.000000</td>\n",
       "      <td>31.000000</td>\n",
       "    </tr>\n",
       "    <tr>\n",
       "      <th>max</th>\n",
       "      <td>891.000000</td>\n",
       "      <td>1.000000</td>\n",
       "      <td>3.000000</td>\n",
       "      <td>80.000000</td>\n",
       "      <td>8.000000</td>\n",
       "      <td>6.000000</td>\n",
       "      <td>512.329200</td>\n",
       "    </tr>\n",
       "  </tbody>\n",
       "</table>\n",
       "</div>"
      ],
      "text/plain": [
       "       PassengerId    Survived      Pclass         Age       SibSp  \\\n",
       "count   891.000000  891.000000  891.000000  714.000000  891.000000   \n",
       "mean    446.000000    0.383838    2.308642   29.699118    0.523008   \n",
       "std     257.353842    0.486592    0.836071   14.526497    1.102743   \n",
       "min       1.000000    0.000000    1.000000    0.420000    0.000000   \n",
       "25%     223.500000    0.000000    2.000000   20.125000    0.000000   \n",
       "50%     446.000000    0.000000    3.000000   28.000000    0.000000   \n",
       "75%     668.500000    1.000000    3.000000   38.000000    1.000000   \n",
       "max     891.000000    1.000000    3.000000   80.000000    8.000000   \n",
       "\n",
       "            Parch        Fare  \n",
       "count  891.000000  891.000000  \n",
       "mean     0.381594   32.204208  \n",
       "std      0.806057   49.693429  \n",
       "min      0.000000    0.000000  \n",
       "25%      0.000000    7.910400  \n",
       "50%      0.000000   14.454200  \n",
       "75%      0.000000   31.000000  \n",
       "max      6.000000  512.329200  "
      ]
     },
     "execution_count": 306,
     "metadata": {},
     "output_type": "execute_result"
    }
   ],
   "source": [
    "titanic_train_data.describe()"
   ]
  },
  {
   "cell_type": "code",
   "execution_count": 307,
   "id": "6cd92bb9",
   "metadata": {},
   "outputs": [
    {
     "data": {
      "text/plain": [
       "array([0, 1], dtype=int64)"
      ]
     },
     "execution_count": 307,
     "metadata": {},
     "output_type": "execute_result"
    }
   ],
   "source": [
    "titanic_train_data[\"Survived\"].unique()"
   ]
  },
  {
   "cell_type": "code",
   "execution_count": 308,
   "id": "7dde5bf2",
   "metadata": {},
   "outputs": [
    {
     "data": {
      "text/plain": [
       "array([3, 1, 2], dtype=int64)"
      ]
     },
     "execution_count": 308,
     "metadata": {},
     "output_type": "execute_result"
    }
   ],
   "source": [
    "titanic_train_data[\"Pclass\"].unique() # Total no of Passengers class 3."
   ]
  },
  {
   "cell_type": "code",
   "execution_count": 309,
   "id": "80a2485d",
   "metadata": {},
   "outputs": [
    {
     "data": {
      "text/plain": [
       "array(['male', 'female'], dtype=object)"
      ]
     },
     "execution_count": 309,
     "metadata": {},
     "output_type": "execute_result"
    }
   ],
   "source": [
    "titanic_train_data[\"Sex\"].unique()"
   ]
  },
  {
   "cell_type": "code",
   "execution_count": 310,
   "id": "ccffd058",
   "metadata": {},
   "outputs": [
    {
     "data": {
      "text/plain": [
       "array([1, 0, 3, 4, 2, 5, 8], dtype=int64)"
      ]
     },
     "execution_count": 310,
     "metadata": {},
     "output_type": "execute_result"
    }
   ],
   "source": [
    "titanic_train_data[\"SibSp\"].unique()"
   ]
  },
  {
   "cell_type": "code",
   "execution_count": 311,
   "id": "a867822c",
   "metadata": {},
   "outputs": [
    {
     "data": {
      "text/plain": [
       "array([0, 1, 2, 5, 3, 4, 6], dtype=int64)"
      ]
     },
     "execution_count": 311,
     "metadata": {},
     "output_type": "execute_result"
    }
   ],
   "source": [
    "titanic_train_data[\"Parch\"].unique()"
   ]
  },
  {
   "cell_type": "code",
   "execution_count": 312,
   "id": "d0ad9287",
   "metadata": {},
   "outputs": [
    {
     "data": {
      "text/plain": [
       "array(['S', 'C', 'Q', nan], dtype=object)"
      ]
     },
     "execution_count": 312,
     "metadata": {},
     "output_type": "execute_result"
    }
   ],
   "source": [
    "titanic_train_data[\"Embarked\"].unique()"
   ]
  },
  {
   "cell_type": "code",
   "execution_count": 313,
   "id": "7de91def",
   "metadata": {},
   "outputs": [
    {
     "data": {
      "text/plain": [
       "array([nan, 'C85', 'C123', 'E46', 'G6', 'C103', 'D56', 'A6',\n",
       "       'C23 C25 C27', 'B78', 'D33', 'B30', 'C52', 'B28', 'C83', 'F33',\n",
       "       'F G73', 'E31', 'A5', 'D10 D12', 'D26', 'C110', 'B58 B60', 'E101',\n",
       "       'F E69', 'D47', 'B86', 'F2', 'C2', 'E33', 'B19', 'A7', 'C49', 'F4',\n",
       "       'A32', 'B4', 'B80', 'A31', 'D36', 'D15', 'C93', 'C78', 'D35',\n",
       "       'C87', 'B77', 'E67', 'B94', 'C125', 'C99', 'C118', 'D7', 'A19',\n",
       "       'B49', 'D', 'C22 C26', 'C106', 'C65', 'E36', 'C54',\n",
       "       'B57 B59 B63 B66', 'C7', 'E34', 'C32', 'B18', 'C124', 'C91', 'E40',\n",
       "       'T', 'C128', 'D37', 'B35', 'E50', 'C82', 'B96 B98', 'E10', 'E44',\n",
       "       'A34', 'C104', 'C111', 'C92', 'E38', 'D21', 'E12', 'E63', 'A14',\n",
       "       'B37', 'C30', 'D20', 'B79', 'E25', 'D46', 'B73', 'C95', 'B38',\n",
       "       'B39', 'B22', 'C86', 'C70', 'A16', 'C101', 'C68', 'A10', 'E68',\n",
       "       'B41', 'A20', 'D19', 'D50', 'D9', 'A23', 'B50', 'A26', 'D48',\n",
       "       'E58', 'C126', 'B71', 'B51 B53 B55', 'D49', 'B5', 'B20', 'F G63',\n",
       "       'C62 C64', 'E24', 'C90', 'C45', 'E8', 'B101', 'D45', 'C46', 'D30',\n",
       "       'E121', 'D11', 'E77', 'F38', 'B3', 'D6', 'B82 B84', 'D17', 'A36',\n",
       "       'B102', 'B69', 'E49', 'C47', 'D28', 'E17', 'A24', 'C50', 'B42',\n",
       "       'C148'], dtype=object)"
      ]
     },
     "execution_count": 313,
     "metadata": {},
     "output_type": "execute_result"
    }
   ],
   "source": [
    "titanic_train_data[\"Cabin\"].unique()"
   ]
  },
  {
   "cell_type": "code",
   "execution_count": 314,
   "id": "d92af04e",
   "metadata": {},
   "outputs": [
    {
     "data": {
      "text/plain": [
       "148"
      ]
     },
     "execution_count": 314,
     "metadata": {},
     "output_type": "execute_result"
    }
   ],
   "source": [
    "len(titanic_train_data[\"Cabin\"].unique()) # len counts nan also"
   ]
  },
  {
   "cell_type": "markdown",
   "id": "1739124d",
   "metadata": {},
   "source": [
    "**insights:**\n",
    "1. Dataset contains total **891** passengers records  which is 40 % of total passengers **(2224)**   aboarded on ship.\n",
    "2. Dataset have **12 feature columns** with a survived column which tells about passenger survived(1) or not survived(0).\n",
    "3. age column have 177 entries null, Cabin - 687, Embarked - 2\n",
    "4. Survived column have to categorical value(unique) i.e; 0 & 1.\n",
    "5. Total no of passenger class is 3 i.e; (1,2,3) .\n",
    "6. There are only two type male & female sex category of passengers.\n",
    "7. Maximum Number of sibling and/or spouse travelling with passenger are 8 and minimum 0.\n",
    "8. Maximum Number of parent and/or children travelling with passenger are 6 and minimum 0.\n",
    "9. Number of Port of Embarkation are 3 i.e; ('S','C' & 'Q')\n"
   ]
  },
  {
   "cell_type": "markdown",
   "id": "507d21a3",
   "metadata": {},
   "source": [
    "# 3. Data Profiling and Preprocessing"
   ]
  },
  {
   "cell_type": "markdown",
   "id": "43b0738b",
   "metadata": {},
   "source": [
    "# 3.1 **Data Profiling**\n",
    "\n",
    "By pandas profiling, an interactive **HTML report** gets generated which contains all the information about the columns of the dataset, like the counts and type of each column. \n",
    "\n",
    "1.Detailed information about each column, coorelation between different columns and a sample of dataset\n",
    "\n",
    "2.It gives us visual interpretation of each column in the data\n",
    "\n",
    "3.Spread of the data can be better understood by the distribution plot\n",
    "\n",
    "4.Grannular level analysis of each column."
   ]
  },
  {
   "cell_type": "code",
   "execution_count": null,
   "id": "236ea5d8",
   "metadata": {
    "scrolled": true
   },
   "outputs": [],
   "source": [
    "pip install pandas_profiling"
   ]
  },
  {
   "cell_type": "code",
   "execution_count": null,
   "id": "6db6e71d",
   "metadata": {},
   "outputs": [],
   "source": [
    "from pandas_profiling import ProfileReport"
   ]
  },
  {
   "cell_type": "code",
   "execution_count": null,
   "id": "434336e0",
   "metadata": {},
   "outputs": [],
   "source": [
    "profile = ProfileReport(titanic_train_data,title = \"Titanic report\")\n",
    "profile"
   ]
  },
  {
   "cell_type": "code",
   "execution_count": null,
   "id": "0d07064b",
   "metadata": {},
   "outputs": [],
   "source": [
    "profile.to_file(\"Titanic_Report.html\")"
   ]
  },
  {
   "cell_type": "markdown",
   "id": "6f12abdc",
   "metadata": {},
   "source": [
    "# 3.2 Data Preprocessing"
   ]
  },
  {
   "cell_type": "markdown",
   "id": "c800ccc9",
   "metadata": {},
   "source": [
    "1. Check for Errors and Null Values\n",
    "\n",
    "2. Replace Null Values with appropriate values\n",
    "\n",
    "3. Drop down features that are incomplete and are not too relevant for analysis\n",
    "\n",
    "4. Create new features that can would help to improve prediction "
   ]
  },
  {
   "cell_type": "markdown",
   "id": "5392bb4a",
   "metadata": {},
   "source": [
    "**1. Check for Errors and Null Values**"
   ]
  },
  {
   "cell_type": "code",
   "execution_count": null,
   "id": "45d2b08e",
   "metadata": {},
   "outputs": [],
   "source": [
    "null_info = titanic_train_data.isnull().sum()\n",
    "null_info_percente = (titanic_train_data.isnull().sum()/len(titanic_train_data))*100\n",
    "null_data = pd.concat([null_info,null_info_percente],axis=1,keys=[\"total\",\"Percentage\"])\n",
    "null_data"
   ]
  },
  {
   "cell_type": "markdown",
   "id": "34c905f4",
   "metadata": {},
   "source": [
    "**#insights:**\n",
    "1. Age , cabin and Embarked column have Null values.\n",
    "2. Cabin column have 77 % Null value which can be Drop.\n",
    "3. Age and Embarked column with Null value can be filled by appropriate values like mean, median and mode."
   ]
  },
  {
   "cell_type": "markdown",
   "id": "7d506b42",
   "metadata": {},
   "source": [
    "**2. Remove Outlier & Replace Null Values with appropriate values**"
   ]
  },
  {
   "cell_type": "code",
   "execution_count": null,
   "id": "31b4b814",
   "metadata": {},
   "outputs": [],
   "source": [
    "titanic_train_data.boxplot(column = ['Age','SibSp','Parch','Fare'])"
   ]
  },
  {
   "cell_type": "markdown",
   "id": "55705804",
   "metadata": {},
   "source": [
    "**finding appropriate value to fill NA of Age Column**"
   ]
  },
  {
   "cell_type": "code",
   "execution_count": null,
   "id": "61c2227c",
   "metadata": {},
   "outputs": [],
   "source": [
    "average_age = np.round(titanic_train_data[\"Age\"].mean())\n",
    "average_age"
   ]
  },
  {
   "cell_type": "code",
   "execution_count": null,
   "id": "75ef2fc4",
   "metadata": {},
   "outputs": [],
   "source": [
    "mode_age = np.round(titanic_train_data[\"Age\"].mode())\n",
    "mode_age"
   ]
  },
  {
   "cell_type": "code",
   "execution_count": null,
   "id": "748f748b",
   "metadata": {},
   "outputs": [],
   "source": [
    "median_age = np.round(titanic_train_data[\"Age\"].median())\n",
    "median_age"
   ]
  },
  {
   "cell_type": "code",
   "execution_count": null,
   "id": "4d1a4fd3",
   "metadata": {},
   "outputs": [],
   "source": [
    "sns.boxplot(titanic_train_data[\"Age\"])"
   ]
  },
  {
   "cell_type": "code",
   "execution_count": null,
   "id": "c8f8569c",
   "metadata": {},
   "outputs": [],
   "source": [
    "sns.displot(titanic_train_data[\"Age\"])"
   ]
  },
  {
   "cell_type": "markdown",
   "id": "887c51db",
   "metadata": {},
   "source": [
    "**Since Distribution is not symmetric so mean can not be used to fill NA cell, So filling NA of Age by median value**"
   ]
  },
  {
   "cell_type": "code",
   "execution_count": null,
   "id": "b0b7b538",
   "metadata": {},
   "outputs": [],
   "source": [
    "titanic_train_data[\"Age\"].fillna(median_age, inplace = True) #filled the NA of Age with median value\n",
    "titanic_train_data.isnull().sum() "
   ]
  },
  {
   "cell_type": "markdown",
   "id": "16adf760",
   "metadata": {},
   "source": [
    "**Since Embarked is Categorical data type so filled NA of Embarked column by mode value**"
   ]
  },
  {
   "cell_type": "code",
   "execution_count": null,
   "id": "b647b4c9",
   "metadata": {},
   "outputs": [],
   "source": [
    "mode_Embarked = titanic_train_data[\"Embarked\"].mode() # filled NA of Embarked column by mode value\n",
    "mode_Embarked"
   ]
  },
  {
   "cell_type": "markdown",
   "id": "311ab26a",
   "metadata": {},
   "source": [
    "**3. Drop down features that are incomplete and are not too relevant for analysis**"
   ]
  },
  {
   "cell_type": "markdown",
   "id": "3a5d4e10",
   "metadata": {},
   "source": [
    "**drop Cabin column, because of 70 % NA value in it**"
   ]
  },
  {
   "cell_type": "code",
   "execution_count": null,
   "id": "aa1a5c7f",
   "metadata": {},
   "outputs": [],
   "source": [
    "titanic_train_data.drop(\"Cabin\",axis = 1, inplace = True) "
   ]
  },
  {
   "cell_type": "code",
   "execution_count": null,
   "id": "1aef68e7",
   "metadata": {},
   "outputs": [],
   "source": [
    "titanic_train_data[\"Embarked\"].fillna(mode_Embarked[0], inplace = True) "
   ]
  },
  {
   "cell_type": "markdown",
   "id": "3d0a9e24",
   "metadata": {},
   "source": [
    "**PasswngerID and Ticket column may be drop because there is no affect on servival**"
   ]
  },
  {
   "cell_type": "code",
   "execution_count": null,
   "id": "24d4da0c",
   "metadata": {},
   "outputs": [],
   "source": [
    "titanic_train_data.drop([\"PassengerId\",\"Ticket\"],axis=1, inplace = True)"
   ]
  },
  {
   "cell_type": "code",
   "execution_count": null,
   "id": "a93a5ffa",
   "metadata": {},
   "outputs": [],
   "source": [
    "titanic_train_data.isnull().sum()"
   ]
  },
  {
   "cell_type": "markdown",
   "id": "2d87a681",
   "metadata": {},
   "source": [
    "**4. Creating new Fields**"
   ]
  },
  {
   "cell_type": "markdown",
   "id": "c7de19e5",
   "metadata": {},
   "source": [
    "1. Create New Age Bands to improve  prediction Insights\n",
    "\n",
    "2. Create a new feature called Family based on Parch and SibSp to get total count of family members on board\n",
    "\n",
    "3. Create a Fare range feature if it helps our analysis"
   ]
  },
  {
   "cell_type": "code",
   "execution_count": null,
   "id": "6be6516d",
   "metadata": {},
   "outputs": [],
   "source": [
    "titanic_train_data.head()"
   ]
  },
  {
   "cell_type": "markdown",
   "id": "d2584d7e",
   "metadata": {},
   "source": [
    "**## Age Band**"
   ]
  },
  {
   "cell_type": "code",
   "execution_count": null,
   "id": "abaffecf",
   "metadata": {},
   "outputs": [],
   "source": [
    "titanic_train_data['Age_band']=0\n",
    "titanic_train_data.loc[titanic_train_data['Age'] <=1, ['Age_band']] = \"infant\"\n",
    "titanic_train_data.loc[(titanic_train_data['Age'] > 1) & (titanic_train_data['Age'] <= 12), ['Age_band']] = \"Children\"\n",
    "titanic_train_data.loc[titanic_train_data['Age'] > 12, ['Age_band']] = \"Adults\"\n",
    "titanic_train_data.head(3)"
   ]
  },
  {
   "cell_type": "markdown",
   "id": "ee64720c",
   "metadata": {},
   "source": [
    "**## FARE BAND** (Pclass and Fare don't have any relation)"
   ]
  },
  {
   "cell_type": "code",
   "execution_count": null,
   "id": "2e0d591a",
   "metadata": {},
   "outputs": [],
   "source": [
    "titanic_train_data[titanic_train_data['Pclass']==3].head(5)"
   ]
  },
  {
   "cell_type": "code",
   "execution_count": null,
   "id": "0a2fb529",
   "metadata": {},
   "outputs": [],
   "source": [
    "plt.boxplot(titanic_train_data['Fare'])"
   ]
  },
  {
   "cell_type": "code",
   "execution_count": null,
   "id": "b5834db2",
   "metadata": {
    "scrolled": true
   },
   "outputs": [],
   "source": [
    "sns.displot(titanic_train_data['Fare'],kind =\"hist\")"
   ]
  },
  {
   "cell_type": "code",
   "execution_count": null,
   "id": "5f855ccc",
   "metadata": {},
   "outputs": [],
   "source": [
    "titanic_train_data['Fare'].max()"
   ]
  },
  {
   "cell_type": "code",
   "execution_count": null,
   "id": "ddbfe0cf",
   "metadata": {},
   "outputs": [],
   "source": [
    "titanic_train_data['Fare'].min()"
   ]
  },
  {
   "cell_type": "code",
   "execution_count": null,
   "id": "02ed83d9",
   "metadata": {},
   "outputs": [],
   "source": [
    "titanic_train_data['Fare_band']=0\n",
    "titanic_train_data.loc[(titanic_train_data['Fare'] >= 0) & (titanic_train_data['Fare'] < 20), ['Fare_band']] = 1\n",
    "titanic_train_data.loc[(titanic_train_data['Fare'] >= 20) & (titanic_train_data['Fare'] < 40), ['Fare_band']] = 2\n",
    "titanic_train_data.loc[(titanic_train_data['Fare'] >= 40) & (titanic_train_data['Fare'] < 60), ['Fare_band']] = 3\n",
    "titanic_train_data.loc[(titanic_train_data['Fare'] >= 60) & (titanic_train_data['Fare'] < 80), ['Fare_band']] = 4\n",
    "titanic_train_data.loc[(titanic_train_data['Fare'] >= 80) & (titanic_train_data['Fare'] < 100), ['Fare_band']] = 5\n",
    "titanic_train_data.loc[(titanic_train_data['Fare'] >= 100) & (titanic_train_data['Fare'] < 200), ['Fare_band']] = 6\n",
    "titanic_train_data.loc[(titanic_train_data['Fare'] >= 200) , ['Fare_band']] = 7\n",
    "titanic_train_data.head(3)"
   ]
  },
  {
   "cell_type": "markdown",
   "id": "0a40d9ae",
   "metadata": {},
   "source": [
    "**Before dropping Name column, lets extract title from Name to mechanize relation between Name and Survivor.**"
   ]
  },
  {
   "cell_type": "code",
   "execution_count": null,
   "id": "9fe66fc4",
   "metadata": {},
   "outputs": [],
   "source": [
    "titanic_train_data['Title']=titanic_train_data.Name.str.extract('([A-Za-z]+\\.)', expand=False)\n",
    "titanic_train_data.head(5)"
   ]
  },
  {
   "cell_type": "code",
   "execution_count": null,
   "id": "03d9411d",
   "metadata": {},
   "outputs": [],
   "source": [
    "pd.crosstab(titanic_train_data[\"Title\"],titanic_train_data[\"Sex\"]) #giving count of Title respective of Sex"
   ]
  },
  {
   "cell_type": "code",
   "execution_count": null,
   "id": "f86f6cfa",
   "metadata": {},
   "outputs": [],
   "source": [
    "titanic_train_data['Title'] = titanic_train_data['Title'].replace(['Lady', 'Countess','Capt', 'Col','Don', 'Dr', 'Major', 'Rev', 'Sir', 'Jonkheer', 'Dona'], 'Rare')\n",
    "titanic_train_data['Title'] = titanic_train_data['Title'].replace('Mlle', 'Miss')\n",
    "titanic_train_data['Title'] = titanic_train_data['Title'].replace('Ms', 'Miss')\n",
    "titanic_train_data['Title'] = titanic_train_data['Title'].replace('Mme', 'Mrs')"
   ]
  },
  {
   "cell_type": "code",
   "execution_count": null,
   "id": "b9c66c2b",
   "metadata": {},
   "outputs": [],
   "source": [
    "title_mapping = {\"Mr\": 1, \"Miss\": 2, \"Mrs\": 3, \"Master\": 4, \"Rare\": 5}\n",
    "titanic_train_data['Title'] = titanic_train_data['Title'].map(title_mapping)\n",
    "titanic_train_data['Title'] = titanic_train_data['Title'].fillna(0)\n",
    "titanic_train_data.head()"
   ]
  },
  {
   "cell_type": "code",
   "execution_count": null,
   "id": "79424475",
   "metadata": {},
   "outputs": [],
   "source": [
    "titanic_train_data.drop('Name',axis=1,inplace=True)  ## Now drop Name Colume "
   ]
  },
  {
   "cell_type": "markdown",
   "id": "e73bb5dc",
   "metadata": {},
   "source": [
    "### Now we can convert features which contain strings to numerical values. This is required by most model algorithms. Doing so will also help us in achieving the feature completing goal.\n",
    "\n",
    "- Converting Sex feature to a new feature called Gender where female=1 and male=0."
   ]
  },
  {
   "cell_type": "code",
   "execution_count": null,
   "id": "03e03a73",
   "metadata": {},
   "outputs": [],
   "source": [
    "titanic_train_data['Sex'] = titanic_train_data['Sex'].map( {'female': 1, 'male': 0} ).astype(int)\n",
    "titanic_train_data.head()"
   ]
  },
  {
   "cell_type": "code",
   "execution_count": null,
   "id": "71fcde66",
   "metadata": {},
   "outputs": [],
   "source": [
    "titanic_train_data['Embarked'] = titanic_train_data['Embarked'].map( {'S': 0, 'C': 1, 'Q': 2} ).astype(int)\n",
    "titanic_train_data.head()"
   ]
  },
  {
   "cell_type": "markdown",
   "id": "f4461e51",
   "metadata": {},
   "source": [
    "## 3.3 Post Profiling"
   ]
  },
  {
   "cell_type": "code",
   "execution_count": null,
   "id": "9c4351c5",
   "metadata": {},
   "outputs": [],
   "source": [
    "profile = ProfileReport(titanic_train_data,title = \"Titanic report after data processing\")\n",
    "profile"
   ]
  },
  {
   "cell_type": "code",
   "execution_count": null,
   "id": "9bdbd910",
   "metadata": {},
   "outputs": [],
   "source": [
    "profile.to_file(\"Titanic Report after preprocessing.html\")"
   ]
  },
  {
   "cell_type": "markdown",
   "id": "21a16ccd",
   "metadata": {},
   "source": [
    "## 4. Analysis through visualization"
   ]
  },
  {
   "cell_type": "markdown",
   "id": "92b0071f",
   "metadata": {},
   "source": [
    "# 4.1 What is Total Count of Survivals and Victims?"
   ]
  },
  {
   "cell_type": "code",
   "execution_count": null,
   "id": "8337ea86",
   "metadata": {},
   "outputs": [],
   "source": [
    "total_Survived = titanic_train_data[titanic_train_data['Survived']==1]['Survived'].count()\n",
    "total_Victim = titanic_train_data[titanic_train_data['Survived']==0]['Survived'].count()\n",
    "total_Survived,total_Victim"
   ]
  },
  {
   "cell_type": "code",
   "execution_count": null,
   "id": "0b10f3bd",
   "metadata": {},
   "outputs": [],
   "source": [
    "titanic_train_data.groupby(['Survived'])['Survived'].count()"
   ]
  },
  {
   "cell_type": "code",
   "execution_count": null,
   "id": "ca7ad687",
   "metadata": {},
   "outputs": [],
   "source": [
    "titanic_train_data.Survived.value_counts()"
   ]
  },
  {
   "cell_type": "code",
   "execution_count": null,
   "id": "e5839511",
   "metadata": {},
   "outputs": [],
   "source": [
    "titanic_train_data.groupby(['Survived'])['Survived'].count().plot(kind='bar')"
   ]
  },
  {
   "cell_type": "code",
   "execution_count": null,
   "id": "f74e55dd",
   "metadata": {},
   "outputs": [],
   "source": [
    "plt = titanic_train_data.Survived.value_counts().plot(kind='bar')\n",
    "plt.set_xlabel('died or survived')\n",
    "plt.set_ylabel('Passenger Count')"
   ]
  },
  {
   "cell_type": "markdown",
   "id": "1a9ae703",
   "metadata": {},
   "source": [
    "**Insights:**\n",
    "1. Only 342 Passengers survived outoff 891 Passengers.\n",
    "2. and remaining 549 Passengers dead.\n"
   ]
  },
  {
   "cell_type": "markdown",
   "id": "f6df7608",
   "metadata": {},
   "source": [
    "## 4.2 Which Gender has more Survival rate?"
   ]
  },
  {
   "cell_type": "code",
   "execution_count": null,
   "id": "e3c8672e",
   "metadata": {},
   "outputs": [],
   "source": [
    "titanic_train_data[titanic_train_data['Survived']==1][['Survived','Sex']].groupby(['Sex']).count()"
   ]
  },
  {
   "cell_type": "code",
   "execution_count": null,
   "id": "65a03485",
   "metadata": {},
   "outputs": [],
   "source": [
    "titanic_train_data.groupby(['Survived','Sex'])['Survived'].count()"
   ]
  },
  {
   "cell_type": "code",
   "execution_count": null,
   "id": "7dd50d90",
   "metadata": {},
   "outputs": [],
   "source": [
    "sns.countplot(data= titanic_train_data,x ='Survived',hue='Sex')"
   ]
  },
  {
   "cell_type": "markdown",
   "id": "5d6475bc",
   "metadata": {},
   "source": [
    "**Insight:**\n",
    "Female had survived more than male."
   ]
  },
  {
   "cell_type": "markdown",
   "id": "2a77f546",
   "metadata": {},
   "source": [
    "# 4.3 What is Survival rate based on Person type(Male,female,Child)"
   ]
  },
  {
   "cell_type": "code",
   "execution_count": null,
   "id": "be1f6822",
   "metadata": {},
   "outputs": [],
   "source": [
    "titanic_train_data.groupby([\"Survived\",\"Age_band\"])[\"Survived\"].count()"
   ]
  },
  {
   "cell_type": "code",
   "execution_count": null,
   "id": "285251eb",
   "metadata": {},
   "outputs": [],
   "source": [
    "titanic_train_data[titanic_train_data[\"Age_band\"]=='Adults'].groupby([\"Survived\"])['Survived'].count().plot(kind='pie', figsize=(6, 6),explode=[0,0.05],autopct='%1.1f%%')\n",
    "plt.set_title(\"Adults Survival Rate\")"
   ]
  },
  {
   "cell_type": "code",
   "execution_count": null,
   "id": "629f0f5d",
   "metadata": {},
   "outputs": [],
   "source": [
    "titanic_train_data[titanic_train_data[\"Age_band\"]=='infant'].groupby([\"Survived\"])['Survived'].count().plot(kind='pie', figsize=(6, 6),explode=[0,0.05],autopct='%1.1f%%')\n",
    "plt.set_title(\"infant Survival Rate\")"
   ]
  },
  {
   "cell_type": "code",
   "execution_count": null,
   "id": "3367a3c8",
   "metadata": {},
   "outputs": [],
   "source": [
    "titanic_train_data[titanic_train_data[\"Age_band\"]=='Children'].groupby([\"Survived\"])['Survived'].count().plot(kind='pie', figsize=(6, 6),explode=[0,0.05],autopct='%1.1f%%')\n",
    "plt.set_title(\"Children Survival Rate\")"
   ]
  },
  {
   "cell_type": "markdown",
   "id": "5e5e63e1",
   "metadata": {},
   "source": [
    "**Insights**\n",
    "1. Survival Rate of Adults are lowest among other and Survival Rate of Infants are most among others.\n",
    "2. Survival and Death Rate of Childrens are nearly Equal.\n"
   ]
  },
  {
   "cell_type": "markdown",
   "id": "55cd2eed",
   "metadata": {},
   "source": [
    "# 4.4 Did Economy Class had an impact on Survival?"
   ]
  },
  {
   "cell_type": "code",
   "execution_count": null,
   "id": "9484d576",
   "metadata": {},
   "outputs": [],
   "source": [
    "titanic_train_data.groupby([\"Survived\",\"Pclass\"])['Survived'].count()"
   ]
  },
  {
   "cell_type": "code",
   "execution_count": null,
   "id": "9f21ce8b",
   "metadata": {},
   "outputs": [],
   "source": [
    "sns.countplot(data = titanic_train_data,x='Survived',hue='Pclass')"
   ]
  },
  {
   "cell_type": "markdown",
   "id": "64da3d5d",
   "metadata": {},
   "source": [
    "**Insights:**\n",
    "1. Yes, Economy Class impacted on the survival of Passengers.\n",
    "2. Economy Class Passengers death count is lowest."
   ]
  },
  {
   "cell_type": "markdown",
   "id": "84eaf71c",
   "metadata": {},
   "source": [
    "# 4.5 What is the Survival probaility based on Embarkment of Passengers?"
   ]
  },
  {
   "cell_type": "code",
   "execution_count": null,
   "id": "e8fdba51",
   "metadata": {},
   "outputs": [],
   "source": [
    "titanic_train_data.groupby(['Survived','Embarked'])['Survived'].count()"
   ]
  },
  {
   "cell_type": "code",
   "execution_count": null,
   "id": "c8240461",
   "metadata": {},
   "outputs": [],
   "source": [
    "sns.countplot(data = titanic_train_data,x='Embarked')"
   ]
  },
  {
   "cell_type": "code",
   "execution_count": null,
   "id": "b24031e4",
   "metadata": {},
   "outputs": [],
   "source": [
    "sns.countplot(data = titanic_train_data,x='Survived',hue='Embarked')"
   ]
  },
  {
   "cell_type": "code",
   "execution_count": null,
   "id": "4decfcf7",
   "metadata": {},
   "outputs": [],
   "source": [
    "plt = titanic_train_data.groupby(['Embarked'])['Survived'].mean().plot(kind='bar')\n",
    "plt.set_xlabel('Embarked')\n",
    "plt.set_ylabel('Survival Probability')"
   ]
  },
  {
   "cell_type": "markdown",
   "id": "eb845ac4",
   "metadata": {},
   "source": [
    "**Insights:**\n",
    "    1. Survival probability is maximum when passenger embarked at 1 i.e; C(Cherbourg) and minimum when passenger embarked at 0 i.e; S(Southampton)."
   ]
  },
  {
   "cell_type": "markdown",
   "id": "0c2d89d5",
   "metadata": {},
   "source": [
    "# 4.6 How is Fare distributed for the Passengers?"
   ]
  },
  {
   "cell_type": "code",
   "execution_count": null,
   "id": "02de548b",
   "metadata": {},
   "outputs": [],
   "source": [
    "titanic_train_data[[\"Fare\"]].plot(kind='hist')"
   ]
  },
  {
   "cell_type": "code",
   "execution_count": null,
   "id": "ac6d0187",
   "metadata": {},
   "outputs": [],
   "source": [
    "sns.displot(titanic_train_data['Fare'],bins=10)"
   ]
  },
  {
   "cell_type": "markdown",
   "id": "b42c8430",
   "metadata": {},
   "source": [
    "**Insights:**\n",
    "1. Most of fare lies between 0 to 100.\n",
    "2. and maximum number of Passengers fare lies within 50.\n",
    "3. Higher fare amount was paid by few passengers only"
   ]
  },
  {
   "cell_type": "markdown",
   "id": "24b3fc94",
   "metadata": {},
   "source": [
    "# 4.7 What was Average Fare by Pclass & Embark location?"
   ]
  },
  {
   "cell_type": "code",
   "execution_count": null,
   "id": "900e5875",
   "metadata": {},
   "outputs": [],
   "source": [
    "titanic_train_data.groupby([\"Pclass\"])[\"Fare\"].mean()"
   ]
  },
  {
   "cell_type": "code",
   "execution_count": null,
   "id": "b0bf0bf6",
   "metadata": {},
   "outputs": [],
   "source": [
    "titanic_train_data.groupby(['Embarked'])[\"Fare\"].mean()"
   ]
  },
  {
   "cell_type": "markdown",
   "id": "3f41b7a0",
   "metadata": {},
   "source": [
    "**Insights:**\n",
    "1. Average fare of Pclass 1 is highest\n",
    "2.Average fare of passengers who embarked at C , S, Q was 27.25, 59.95 ,13.27 dollar respectively.\n"
   ]
  },
  {
   "cell_type": "markdown",
   "id": "402e2500",
   "metadata": {},
   "source": [
    "# 4.8 Segment Age in bins with size of 20.Also Correlate Age with Survival."
   ]
  },
  {
   "cell_type": "code",
   "execution_count": null,
   "id": "4dca6258",
   "metadata": {},
   "outputs": [],
   "source": [
    "sns.displot(data=titanic_train_data,x=titanic_train_data[\"Age\"],kind='hist',bins=20)"
   ]
  },
  {
   "cell_type": "code",
   "execution_count": null,
   "id": "85a2ab72",
   "metadata": {},
   "outputs": [],
   "source": [
    "titanic_train_data[\"Age\"].min()"
   ]
  },
  {
   "cell_type": "code",
   "execution_count": null,
   "id": "0943127e",
   "metadata": {},
   "outputs": [],
   "source": [
    "sns.displot(data = titanic_train_data[titanic_train_data['Survived']==1],x=titanic_train_data[titanic_train_data['Survived']==1][\"Age\"],kind='hist',bins=20)"
   ]
  },
  {
   "cell_type": "markdown",
   "id": "82289d76",
   "metadata": {},
   "source": [
    "**Insights:**\n",
    "1. minimum age of Passenger was 0.42 year ie; nearly 6 months\n",
    "2. maximum age of passenger was 80 which count was very few.\n",
    "3. Averege age of passenger was 30.\n",
    "4. Most of passengers were of age between 20 to 35.\n",
    "5. Servival count is most for age between 20 to 35."
   ]
  },
  {
   "cell_type": "markdown",
   "id": "e2687089",
   "metadata": {},
   "source": [
    "# 4.9 Did Solo Traveller has less chances of Survival?"
   ]
  },
  {
   "cell_type": "code",
   "execution_count": null,
   "id": "891dfac0",
   "metadata": {},
   "outputs": [],
   "source": [
    "titanic_train_data['FamilySize']=0\n",
    "titanic_train_data['FamilySize']=titanic_train_data['Parch']+titanic_train_data['SibSp']\n",
    "titanic_train_data['SoloPassenger']=0\n",
    "titanic_train_data.loc[titanic_train_data.FamilySize==0,'SoloPassenger']=1\n",
    "#if passenger's familysize = 0 means passenger is solo then solopassenger = 1 else 0\n",
    "titanic_train_data.head(3)"
   ]
  },
  {
   "cell_type": "code",
   "execution_count": null,
   "id": "eee542ad",
   "metadata": {},
   "outputs": [],
   "source": [
    "titanic_train_data.groupby([\"SoloPassenger\",\"Survived\"])[\"Survived\"].count()"
   ]
  },
  {
   "cell_type": "markdown",
   "id": "1ec05526",
   "metadata": {},
   "source": [
    "**Insights:**\n",
    "1. Yes, Solo passengers had less chance to survive."
   ]
  },
  {
   "cell_type": "markdown",
   "id": "eb59ff07",
   "metadata": {},
   "source": [
    "# 4.10 How did Total family size affected Survival Count?"
   ]
  },
  {
   "cell_type": "markdown",
   "id": "475b6db3",
   "metadata": {},
   "source": [
    "4.11 How can you correlate Pclass/Age/fare with Survival rate?\n"
   ]
  },
  {
   "cell_type": "markdown",
   "id": "17e794a5",
   "metadata": {},
   "source": [
    "4.12 Which features had most Impact on Survival rate?"
   ]
  },
  {
   "cell_type": "code",
   "execution_count": null,
   "id": "136133e2",
   "metadata": {},
   "outputs": [],
   "source": []
  }
 ],
 "metadata": {
  "kernelspec": {
   "display_name": "Python 3 (ipykernel)",
   "language": "python",
   "name": "python3"
  },
  "language_info": {
   "codemirror_mode": {
    "name": "ipython",
    "version": 3
   },
   "file_extension": ".py",
   "mimetype": "text/x-python",
   "name": "python",
   "nbconvert_exporter": "python",
   "pygments_lexer": "ipython3",
   "version": "3.9.13"
  }
 },
 "nbformat": 4,
 "nbformat_minor": 5
}
